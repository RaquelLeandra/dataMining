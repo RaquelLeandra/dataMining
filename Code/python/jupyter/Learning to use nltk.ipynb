{
 "cells": [
  {
   "cell_type": "markdown",
   "metadata": {},
   "source": [
    "# NLTK Examples"
   ]
  },
  {
   "cell_type": "markdown",
   "metadata": {},
   "source": [
    "## Counting words from Brown corpus"
   ]
  },
  {
   "cell_type": "markdown",
   "metadata": {},
   "source": [
    "I import the brown corpus from nltk for learning how to process text. \n",
    "\n",
    "The brown corpus is a collection of 500 texts labeled in categories such as humor, religion, news etc. "
   ]
  },
  {
   "cell_type": "code",
   "execution_count": 1,
   "metadata": {
    "collapsed": true
   },
   "outputs": [],
   "source": [
    "import nltk\n",
    "from nltk.corpus import brown"
   ]
  },
  {
   "cell_type": "code",
   "execution_count": 2,
   "metadata": {},
   "outputs": [
    {
     "name": "stdout",
     "output_type": "stream",
     "text": [
      "['adventure', 'belles_lettres', 'editorial', 'fiction', 'government', 'hobbies', 'humor', 'learned', 'lore', 'mystery', 'news', 'religion', 'reviews', 'romance', 'science_fiction']\n"
     ]
    }
   ],
   "source": [
    "print(brown.categories())"
   ]
  },
  {
   "cell_type": "code",
   "execution_count": 3,
   "metadata": {},
   "outputs": [
    {
     "data": {
      "text/plain": [
       "<CategorizedTaggedCorpusReader in '/home/raquel/nltk_data/corpora/brown'>"
      ]
     },
     "execution_count": 3,
     "metadata": {},
     "output_type": "execute_result"
    }
   ],
   "source": [
    "brown"
   ]
  },
  {
   "cell_type": "code",
   "execution_count": null,
   "metadata": {
    "collapsed": true
   },
   "outputs": [],
   "source": [
    "genres = ['fiction', 'humor', 'romance']\n",
    "whwords = ['what', 'which', 'how', 'why', 'when', 'where', 'who']"
   ]
  },
  {
   "cell_type": "markdown",
   "metadata": {},
   "source": [
    "I take the words of the genre fiction. "
   ]
  },
  {
   "cell_type": "code",
   "execution_count": 21,
   "metadata": {
    "collapsed": true
   },
   "outputs": [],
   "source": [
    "genre_text = brown.words(categories = genres[0])"
   ]
  },
  {
   "cell_type": "markdown",
   "metadata": {},
   "source": [
    "** FreqDist()** accepts a list of words and returns an object that contains the map word and its respective frequency in the input word list"
   ]
  },
  {
   "cell_type": "code",
   "execution_count": 17,
   "metadata": {},
   "outputs": [
    {
     "name": "stdout",
     "output_type": "stream",
     "text": [
      "['They', 'neither', 'liked', 'nor', 'disliked', 'the', 'Old', 'Man', '.', 'To', 'them', 'he', 'could', 'have', 'been', 'broken', 'bell', 'in', 'church', 'tower', 'which', 'rang', 'before', 'and', 'after', 'Mass', ',', 'at', 'noon', 'six', 'each', 'evening', '--', 'its', 'tone', 'repetitive', 'monotonous', 'never', 'breaking', 'boredom', 'of', 'streets', 'The', 'was', 'unimportant', 'Yet', 'if', 'were', 'not', 'there']\n"
     ]
    }
   ],
   "source": [
    "fdist = nltk.FreqDist(genre_text)\n",
    "print(list(fdist.keys())[0:50])"
   ]
  },
  {
   "cell_type": "markdown",
   "metadata": {},
   "source": [
    "Whe count the wh words"
   ]
  },
  {
   "cell_type": "code",
   "execution_count": 18,
   "metadata": {},
   "outputs": [
    {
     "name": "stdout",
     "output_type": "stream",
     "text": [
      "what: 121 which: 104 how: 60 why: 34 when: 126 where: 54 who: 89 "
     ]
    }
   ],
   "source": [
    "for wh in whwords:\n",
    "    print(wh + ':', fdist[wh], end=' ')"
   ]
  },
  {
   "cell_type": "markdown",
   "metadata": {},
   "source": [
    "Now I do it for every genre."
   ]
  },
  {
   "cell_type": "code",
   "execution_count": 19,
   "metadata": {},
   "outputs": [
    {
     "name": "stdout",
     "output_type": "stream",
     "text": [
      "\n",
      "Analysing 'fiction' wh words\n",
      "Total words: 68488\n",
      "what: 128 which: 123 how: 54 why: 18 when: 133 where: 76 who: 103 \n",
      "Analysing 'humor' wh words\n",
      "Total words: 21695\n",
      "what: 36 which: 62 how: 18 why: 9 when: 52 where: 15 who: 48 \n",
      "Analysing 'romance' wh words\n",
      "Total words: 70022\n",
      "what: 121 which: 104 how: 60 why: 34 when: 126 where: 54 who: 89 "
     ]
    }
   ],
   "source": [
    "for i in range(0,len(genres)):\n",
    "    genre = genres[i]\n",
    "    print()\n",
    "    print(\"Analysing '\"+ genre + \"' wh words\")\n",
    "    genre_text = brown.words(categories = genre)\n",
    "    print('Total words:', len(genre_text))\n",
    "    fdist = nltk.FreqDist(genre_text)\n",
    "    for wh in whwords:\n",
    "        print(wh + ':', fdist[wh], end=' ')"
   ]
  },
  {
   "cell_type": "markdown",
   "metadata": {},
   "source": [
    "## Frequency distribution ussing web corpus"
   ]
  },
  {
   "cell_type": "code",
   "execution_count": 23,
   "metadata": {},
   "outputs": [
    {
     "name": "stdout",
     "output_type": "stream",
     "text": [
      "['firefox.txt', 'grail.txt', 'overheard.txt', 'pirates.txt', 'singles.txt', 'wine.txt']\n"
     ]
    }
   ],
   "source": [
    "from nltk.corpus import webtext\n",
    "print(webtext.fileids())"
   ]
  },
  {
   "cell_type": "markdown",
   "metadata": {},
   "source": [
    "Now we will select the file that contains personal advertisement data and and run frequency distribution on it. Add the following three lines for it:"
   ]
  },
  {
   "cell_type": "code",
   "execution_count": 24,
   "metadata": {
    "collapsed": true
   },
   "outputs": [],
   "source": [
    "fileid = 'singles.txt'\n",
    "wbt_words = webtext.words(fileid)\n",
    "fdist = nltk.FreqDist(wbt_words)"
   ]
  },
  {
   "cell_type": "markdown",
   "metadata": {},
   "source": [
    "I do a preliminar analysis counting the maximum appearing token, the total number of tokens and the 10 most common words."
   ]
  },
  {
   "cell_type": "code",
   "execution_count": 25,
   "metadata": {},
   "outputs": [
    {
     "name": "stdout",
     "output_type": "stream",
     "text": [
      "Count of the maximum appearing token \" , \" :  539\n"
     ]
    }
   ],
   "source": [
    "print('Count of the maximum appearing token \"',fdist.max(),'\" : ', fdist[fdist.max()])"
   ]
  },
  {
   "cell_type": "code",
   "execution_count": 26,
   "metadata": {},
   "outputs": [
    {
     "name": "stdout",
     "output_type": "stream",
     "text": [
      "Total Number of distinct tokens in the bag :  4867\n"
     ]
    }
   ],
   "source": [
    "print('Total Number of distinct tokens in the bag : ', fdist.N())"
   ]
  },
  {
   "cell_type": "code",
   "execution_count": 28,
   "metadata": {},
   "outputs": [
    {
     "name": "stdout",
     "output_type": "stream",
     "text": [
      "Following are the most common 10 words in the bag\n",
      "[(',', 539), ('.', 353), ('/', 110), ('for', 99), ('and', 74), ('to', 74), ('lady', 68), ('-', 66), ('seeks', 60), ('a', 52)]\n"
     ]
    }
   ],
   "source": [
    "print('Following are the most common 10 words in the bag')\n",
    "print(fdist.most_common(10))"
   ]
  },
  {
   "cell_type": "markdown",
   "metadata": {},
   "source": [
    "Tabulate function gives all the frecuency distributions"
   ]
  },
  {
   "cell_type": "code",
   "execution_count": 32,
   "metadata": {},
   "outputs": [
    {
     "name": "stdout",
     "output_type": "stream",
     "text": [
      "Frequency Distribution on Personal Advertisements\n",
      "             ,              .              /            for            and             to           lady              -          seeks              a           with              S           ship              &   relationship            fun             in           slim          build              o              s              y         smoker             50            non              I         movies           good         honest         dining            out          rship        looking           like            age     attractive            who     friendship             40             45             35        Looking              5           MALE          times           male           meet           life        seeking              r           open            the         female             of           GSOH          enjoy             ''            fit             or           LADY            guy             no             be          music             ft        drinker             30              f           tall       employed         caring         social           Male              N              D          fship      interests             is        genuine         medium          beach          Seeks          likes              n           poss           WLTM         single             yo              A         travel        similar        married           have          quiet           well           home           long          would          walks         nights             at        Seeking             .,        country         enjoys        MARRIED              6              2            40s       children     ATTRACTIVE         secure             up            30s        fishing             60          woman          share       discreet            DTE            man             by             43             an         living             am           Must            med         drives           Lady              +             25         SINGLE           area           term            you           sexy              ?             36            GUY           Late           view             me             55          going         sought           gent        healthy           love            MAN       outdoors              !         loving           prof              :         casual             42             47        sincere         things          young             Im      gentleman      permanent             57        special           ties            FIT         humour           kids             38       possible          Likes            not      Interests           self        suburbs          years          Would             NS             48          Asian           DtoE        outings      gardening          ASIAN             TO          older       friendly            fem        working            old         sports           away   professional           same       generous       European              c             39    financially             on             58            Age           SLIM         CARING             my         person    BUSINESSMAN        outdoor              (          sense       romantic          GREEK          under            mid             ME     Attractive             46        theatre           GENT           easy        welcome            any        Suburbs              F             37            SOH            but          loves            yrs         Aussie              R            ing       meetings           East           subs             32        dancing         attrac     encounters              E            mum           late          great    personality            YOU            new          never        animals              Y              O         dinner          there             11           nice              8           BBQs           aged           size           hair             If          early        outlook           cars            etc         friend        camping            Mid         classy             59         Single       ROMANTIC           TALL           down          earth           many         petite       outgoing      easygoing            Non           time          Fship       weekends            are          being        company            SWM          happy         please          other    intelligent       reliable             OK         family            gen           50yo              d           attr           Good       intimate           wine            6ft             49      presented             52            Guy           into     articulate   conversation             53             65     Friendship          Photo           SEXY            DAD           44yo       OUTGOING             28              w       business          owner        include            all        forward           from          women          ready   AFFECTIONATE            ARE             we           Slim            Med        someone            You     background         Enjoys          cafes         future         Prefer       Adelaide  companionship            AFL           View        fitness        parties     AUSTRALIAN           With          Enjoy          sport            Fun        between       Possible            20s           this           HAIR             Am             TV            ish             56         taller         wining              h           plus     Australian            60s         ACTIVE      EASYGOING          light           lets        GENUINE            AND         HONEST             Hi             44           Love              9            gym           GOOD           blue          looks           AUST          Early             20    independant            50s         retain            her           PICK         active           incl           year        quality          EARLY           Self         Sports          short             ok            OLD         Indian           Dark           Poss           full        replies            ALA         lonely           perm             if           work           Prof       listener    responsible        reading       exciting            sim            int          photo        cooking          house          Woman              1        weekend             so        walking            bch       brunette             My            Pen            Are          inner          Greek             BE        missing        Married         affair             kg           pref   affectionate          loyal        natural            sgl          LOVER           Aust           Subs        Genuine        dinners           LOVE        partner       relation      adventure        COUNTRY            soh        Vibrant    adventurous           very          ABOUT      Easygoing            511       Southern     vegetarian             \",           dark             10     travelling         racing             41             No         normal        DANCING        SEEKING           must             ),          reply          dance          maybe         enough    comfortable            SWF            pls         Social           35YO       Security          Guard        uniform          below            Nat           Open             yr              M           door              e           feet        groomed           arts       Ringwood      surrounds     meaningful        hearing           ABLE          Phone           play         Sought         mutual    fulfillment          ALONE           lost            too           hope          sight          Maybe          could        explore     beginnings       together           high          needs           WONT   disappointed        AMIABLE            170             cm        without            get           chil           dren             29         COPPER        REDHEAD             61         Taurus           Into         AUSSIE          Solid         FATHER            son             re     lationship        coastal           town           Eyre      Peninsula            FUN           meal            com         panion      BEAUTIFUL    INTELLIGENT        MUSICAL            Shy             12         blonde          drink        Guiness           then           want         BLONDE           BLUE           EYES         Medium           golf           bike         riding           DVDs        kissing       cuddling       prepared          boats            .),         modern         CUDDLY           FULL        FIGURED          fully             +.        towards           Give           call           chat         simple       LISTENER           Well       educated           eyes          brown      important            nor       distance          speed       complete        circles           bbqs       football       HANDSOME           Tall       standing          wants        privacy          still   independance        private           HERE             AM            Now           that           your      attention      LIMESTONE          COAST         REGION  sufficiencies   permaculture        smoking           LATE          Music            art    environment       concerts    unimportant        RETIRED           Like        caravan        heading         Darwin            May        driving            one          child          Clare        Barossa         region       northern  understanding         varied     VIETNAMESE          WIDOW    established             UK           born             31             YO        Eastern          blond            bet           YEAR        Working        CENTRAL      VICTORIAN            Dad           teen      daughters        HEALTHY            emp      tradesman            Sri         Lankan          Olive     Complexion          dship            rel         MATURE           Sexy           WELL        DRESSED    emotionally        figured            shy            NRL         nature          Rship           only           Lots        friends          57YRS         suited    Nationality           34yo       tractive         Ladies           poor         career           Have         always      connected           more          Women        TAINING    interesting           46yo           Kind         having          Witty       humorous           comb      beginning          57yrs          177cm        meeting         Please           send      GENTLEMAN           wild             HI            54y            nts     supporting            nat         pamper           roll          hurry             Is          spend          month       Charters         Towers     especially       festival          write            Ref           8826   PROFESSIONAL        amongst      Christian          178cm           79kg          Clean            cut          natur            ist         minded            red             hd       eurasian           Home             70         SOUGHT             BY           Kids             as           Nice    Businessman       ATHLETIC           Morn             SD         Caring          thats           seek         mature         ladies         BRIGHT            Boy          brain           cook       Physique           fair          lunch       converse       Essendon         Bright       positive         LOVING         Female        dressed            rom       elegance         CASUAL        weekday     obligation       EUROPEAN           36yo      encounter           41yo          37yrs         larger     Preferably            nth           LIKE       MISTRESS           YOUR        treated           Bold       precious      available         during            day     appreciate           Lets           Talk              )             LJ             JS      Bayswater             Be           mine             26          South          burly         beared           ston            MID        strings       attached       HANDYMAN            TLC       position             MT          ELIZA       Business           gorg        passion        running            LTR           girl        serious            Man      assertive           kind        stylish            For      Northcote           Call           PROF             68     Mornington        SCORPIO     passionate             95            def           Knox            4WD             Fe             Ok          STERN     HEADMASTER           firm           hand        naughty            Sgl            ave             bi        curious            dad            sub              \"           FAIR           WANT         SPOILT           Warm           38yo          YOUNG          girls             23             YR        attract            uni        student        daytime         FRIEND           find       athletic         cuddly        ATTRACT        younger             18             27           GOSH          busty     curvaceous DISCIPLINARIAN           Euro            Nth           52yo         HARLEY          RIDER         HERPES       JAPANESE              b        widowed           over          North           West             34        travels            lot       personal        trainer            Sth           42yo          olive           skin            dog         thinks             he          human         spoilt     commitment          OLDER           NICE           GUYS           Aged            two        females          night       clubbing            BOY             +,         Harley          rider           semi        retired         LITTLE          MAGIC         little          green           eyed         ABOUND       CAREFREE       creative      executive       flexible          laugh      contrasts          finer       outlooks          YEARS      lifestyle       ADELAIDE          HILLS    ADVENTUROUS      sensitive      travelled           AGED     Interested     basketball        cricket            pin        bowling          SANFL     nightclubs       TERTIARY       Educated             V8          motor       EMPLOYED         haired       strictly          hours           near           City           EASY          GOING    Intelligent       exercise          daily    trustworthy      integrity         morals       Children       BALLROOM        PARTNER             Me       slimmish          after          again           than          avoid  complications     unattached           CITY           GIRL          SEEKS        ROMANCE         farmer           land          clean         shaven         strong         values          Other        callers             DO          DANCE           Rock           Roll        leading            510        western       southern            5ft          large      nonsmoker         mother             15            boy          Lives             NE         FEISTY           FOXY          YUMMY     GRANDMUMMY       laughter          least           just          watch      fanatical          bonus         GARDEN             62      entertain           lead              4           VERY             54           hugs         kisses          those        tingles           when          click          lover        Amongst          river           real          WOMAN             OF      SUBSTANCE        elegant      preserved           sgle         Prince       Charming         Living           city         filled       glorious        sunsets    candlelight           fine        romance           true          YORKE      PENINSULA            70s     pleasingly          plump      luncheons          cards         indoor          bowls       marriage           Melb           43YO            car           48YO           54yo      companion             go          Could        hearted        classes          about           some     experience       Ballroom           Jive             51         sedate    appreciated             63           genu            ine       possibly      religious         horses           dogs           food        beaches           fish           Gent         dating            fin         lovely            Fem      activites           read           40yo            Mum    judgemental           45yo           danc        general     themselves           Only      enquiries  ABBREVIATIONS          Sense            All        letters       answered           Down          Earth           DONT         FORGET             ..            Its           FREE      advertise        Perfect          Match \n",
      "           539            353            110             99             74             74             68             66             60             52             44             36             33             30             29             28             27             27             27             26             24             23             23             23             22             22             22             21             20             19             19             18             18             18             17             17             17             17             16             16             16             16             16             15             15             15             15             15             14             14             14             14             14             14             14             14             14             14             13             13             13             13             13             13             13             13             13             13             12             12             12             12             12             12             12             11             11             11             11             11             11             11             11             11             11             11             10             10             10             10             10             10             10             10              9              9              9              9              9              9              9              9              9              9              9              9              8              8              8              8              8              8              8              8              8              8              8              8              7              7              7              7              7              7              7              7              7              7              7              7              7              6              6              6              6              6              6              6              6              6              6              6              6              6              6              6              6              6              6              6              6              6              6              6              6              6              6              6              5              5              5              5              5              5              5              5              5              5              5              5              5              5              5              5              5              5              5              5              5              5              5              5              5              5              5              5              5              4              4              4              4              4              4              4              4              4              4              4              4              4              4              4              4              4              4              4              4              4              4              4              4              4              4              4              4              4              4              4              4              4              4              4              4              4              4              4              4              4              4              4              4              4              4              4              4              4              4              4              4              3              3              3              3              3              3              3              3              3              3              3              3              3              3              3              3              3              3              3              3              3              3              3              3              3              3              3              3              3              3              3              3              3              3              3              3              3              3              3              3              3              3              3              3              3              3              3              3              3              3              3              3              3              3              3              3              3              3              3              3              3              3              3              3              3              3              3              3              3              3              3              3              3              3              3              2              2              2              2              2              2              2              2              2              2              2              2              2              2              2              2              2              2              2              2              2              2              2              2              2              2              2              2              2              2              2              2              2              2              2              2              2              2              2              2              2              2              2              2              2              2              2              2              2              2              2              2              2              2              2              2              2              2              2              2              2              2              2              2              2              2              2              2              2              2              2              2              2              2              2              2              2              2              2              2              2              2              2              2              2              2              2              2              2              2              2              2              2              2              2              2              2              2              2              2              2              2              2              2              2              2              2              2              2              2              2              2              2              2              2              2              2              2              2              2              2              2              2              2              2              2              2              2              2              2              2              2              2              2              2              2              2              2              2              2              2              2              2              2              2              2              2              2              2              2              2              2              2              2              2              2              2              2              2              2              2              2              2              2              2              2              1              1              1              1              1              1              1              1              1              1              1              1              1              1              1              1              1              1              1              1              1              1              1              1              1              1              1              1              1              1              1              1              1              1              1              1              1              1              1              1              1              1              1              1              1              1              1              1              1              1              1              1              1              1              1              1              1              1              1              1              1              1              1              1              1              1              1              1              1              1              1              1              1              1              1              1              1              1              1              1              1              1              1              1              1              1              1              1              1              1              1              1              1              1              1              1              1              1              1              1              1              1              1              1              1              1              1              1              1              1              1              1              1              1              1              1              1              1              1              1              1              1              1              1              1              1              1              1              1              1              1              1              1              1              1              1              1              1              1              1              1              1              1              1              1              1              1              1              1              1              1              1              1              1              1              1              1              1              1              1              1              1              1              1              1              1              1              1              1              1              1              1              1              1              1              1              1              1              1              1              1              1              1              1              1              1              1              1              1              1              1              1              1              1              1              1              1              1              1              1              1              1              1              1              1              1              1              1              1              1              1              1              1              1              1              1              1              1              1              1              1              1              1              1              1              1              1              1              1              1              1              1              1              1              1              1              1              1              1              1              1              1              1              1              1              1              1              1              1              1              1              1              1              1              1              1              1              1              1              1              1              1              1              1              1              1              1              1              1              1              1              1              1              1              1              1              1              1              1              1              1              1              1              1              1              1              1              1              1              1              1              1              1              1              1              1              1              1              1              1              1              1              1              1              1              1              1              1              1              1              1              1              1              1              1              1              1              1              1              1              1              1              1              1              1              1              1              1              1              1              1              1              1              1              1              1              1              1              1              1              1              1              1              1              1              1              1              1              1              1              1              1              1              1              1              1              1              1              1              1              1              1              1              1              1              1              1              1              1              1              1              1              1              1              1              1              1              1              1              1              1              1              1              1              1              1              1              1              1              1              1              1              1              1              1              1              1              1              1              1              1              1              1              1              1              1              1              1              1              1              1              1              1              1              1              1              1              1              1              1              1              1              1              1              1              1              1              1              1              1              1              1              1              1              1              1              1              1              1              1              1              1              1              1              1              1              1              1              1              1              1              1              1              1              1              1              1              1              1              1              1              1              1              1              1              1              1              1              1              1              1              1              1              1              1              1              1              1              1              1              1              1              1              1              1              1              1              1              1              1              1              1              1              1              1              1              1              1              1              1              1              1              1              1              1              1              1              1              1              1              1              1              1              1              1              1              1              1              1              1              1              1              1              1              1              1              1              1              1              1              1              1              1              1              1              1              1              1              1              1              1              1              1              1              1              1              1              1              1              1              1              1              1              1              1              1              1              1              1              1              1              1              1              1              1              1              1              1              1              1              1              1              1              1              1              1              1              1              1              1              1              1              1              1              1              1              1              1              1              1              1              1              1              1              1              1              1              1              1              1              1              1              1              1              1              1              1              1              1              1              1              1              1              1              1              1              1              1              1              1              1              1              1              1              1              1              1              1 \n",
      "None\n"
     ]
    }
   ],
   "source": [
    "print('Frequency Distribution on Personal Advertisements')\n",
    "print(fdist.tabulate())"
   ]
  },
  {
   "cell_type": "code",
   "execution_count": 42,
   "metadata": {},
   "outputs": [
    {
     "data": {
      "image/png": "[encoded data removed]",
      "text/plain": [
       "<matplotlib.figure.Figure at 0x7f55d87a6550>"
      ]
     },
     "metadata": {},
     "output_type": "display_data"
    }
   ],
   "source": [
    "%matplotlib inline\n",
    "plt = fdist.plot(cumulative=True)"
   ]
  },
  {
   "cell_type": "markdown",
   "metadata": {},
   "source": [
    "## Basic WordNet concepts"
   ]
  },
  {
   "cell_type": "markdown",
   "metadata": {},
   "source": [
    "** Synsets:**"
   ]
  },
  {
   "cell_type": "code",
   "execution_count": 44,
   "metadata": {
    "collapsed": true
   },
   "outputs": [],
   "source": [
    "from nltk.corpus import wordnet as wn\n",
    "chair = 'chair'"
   ]
  },
  {
   "cell_type": "code",
   "execution_count": 45,
   "metadata": {},
   "outputs": [
    {
     "name": "stdout",
     "output_type": "stream",
     "text": [
      "Synsets/Senses of Chair : [Synset('chair.n.01'), Synset('professorship.n.01'), Synset('president.n.04'), Synset('electric_chair.n.01'), Synset('chair.n.05'), Synset('chair.v.01'), Synset('moderate.v.01')] \n",
      "\n",
      "\n"
     ]
    }
   ],
   "source": [
    "chair_synsets = wn.synsets(chair)\n",
    "print('Synsets/Senses of Chair :', chair_synsets, '\\n\\n')"
   ]
  },
  {
   "cell_type": "code",
   "execution_count": 46,
   "metadata": {},
   "outputs": [
    {
     "name": "stdout",
     "output_type": "stream",
     "text": [
      "Synset('chair.n.01') : \n",
      "Definition:  a seat for one person, with a support for the back\n",
      "Lemmas/Synonymous words:  ['chair']\n",
      "Example:  ['he put his coat over the back of the chair and sat down'] \n",
      "\n",
      "Synset('professorship.n.01') : \n",
      "Definition:  the position of professor\n",
      "Lemmas/Synonymous words:  ['professorship', 'chair']\n",
      "Example:  ['he was awarded an endowed chair in economics'] \n",
      "\n",
      "Synset('president.n.04') : \n",
      "Definition:  the officer who presides at the meetings of an organization\n",
      "Lemmas/Synonymous words:  ['president', 'chairman', 'chairwoman', 'chair', 'chairperson']\n",
      "Example:  ['address your remarks to the chairperson'] \n",
      "\n",
      "Synset('electric_chair.n.01') : \n",
      "Definition:  an instrument of execution by electrocution; resembles an ordinary seat for one person\n",
      "Lemmas/Synonymous words:  ['electric_chair', 'chair', 'death_chair', 'hot_seat']\n",
      "Example:  ['the murderer was sentenced to die in the chair'] \n",
      "\n",
      "Synset('chair.n.05') : \n",
      "Definition:  a particular seat in an orchestra\n",
      "Lemmas/Synonymous words:  ['chair']\n",
      "Example:  ['he is second chair violin'] \n",
      "\n",
      "Synset('chair.v.01') : \n",
      "Definition:  act or preside as chair, as of an academic department in a university\n",
      "Lemmas/Synonymous words:  ['chair', 'chairman']\n",
      "Example:  ['She chaired the department for many years'] \n",
      "\n",
      "Synset('moderate.v.01') : \n",
      "Definition:  preside over\n",
      "Lemmas/Synonymous words:  ['moderate', 'chair', 'lead']\n",
      "Example:  ['John moderated the discussion'] \n",
      "\n"
     ]
    }
   ],
   "source": [
    "for synset in chair_synsets:\n",
    "  print(synset, ': ')\n",
    "  print('Definition: ', synset.definition())\n",
    "  print('Lemmas/Synonymous words: ', synset.lemma_names())\n",
    "  print('Example: ', synset.examples(), '\\n')"
   ]
  },
  {
   "cell_type": "markdown",
   "metadata": {},
   "source": [
    "**Hypernims and Hyponims:**"
   ]
  },
  {
   "cell_type": "code",
   "execution_count": 49,
   "metadata": {},
   "outputs": [],
   "source": [
    "woman = wn.synset('woman.n.02')\n",
    "bed = wn.synset('bed.n.01')"
   ]
  },
  {
   "cell_type": "code",
   "execution_count": 50,
   "metadata": {},
   "outputs": [
    {
     "name": "stdout",
     "output_type": "stream",
     "text": [
      "[Synset('female.n.02')]\n"
     ]
    }
   ],
   "source": [
    "print(woman.hypernyms())\n",
    "woman_paths = woman.hypernym_paths()"
   ]
  },
  {
   "cell_type": "code",
   "execution_count": 51,
   "metadata": {},
   "outputs": [
    {
     "name": "stdout",
     "output_type": "stream",
     "text": [
      "\n",
      "\n",
      "Hypernym Path : 1\n",
      "\n",
      "\n",
      "Hypernym Path : 2\n",
      "entity.n.01 , physical_entity.n.01 , object.n.01 , whole.n.02 , living_thing.n.01 , organism.n.01 , person.n.01 , female.n.02 , woman.n.02 , "
     ]
    }
   ],
   "source": [
    "for idx, path in enumerate(woman_paths):\n",
    "  print('\\n\\nHypernym Path :', idx + 1)\n",
    "for synset in path:\n",
    "  print(synset.name(), ', ', end='')"
   ]
  },
  {
   "cell_type": "code",
   "execution_count": 53,
   "metadata": {},
   "outputs": [
    {
     "name": "stdout",
     "output_type": "stream",
     "text": [
      "\n",
      "\n",
      "Types of beds(Hyponyms):  [Synset('berth.n.03'), Synset('built-in_bed.n.01'), Synset('bunk.n.03'), Synset('bunk_bed.n.01'), Synset('cot.n.03'), Synset('couch.n.03'), Synset('deathbed.n.02'), Synset('double_bed.n.01'), Synset('four-poster.n.01'), Synset('hammock.n.02'), Synset('marriage_bed.n.01'), Synset('murphy_bed.n.01'), Synset('plank-bed.n.01'), Synset('platform_bed.n.01'), Synset('sickbed.n.01'), Synset('single_bed.n.01'), Synset('sleigh_bed.n.01'), Synset('trundle_bed.n.01'), Synset('twin_bed.n.01'), Synset('water_bed.n.01')]\n"
     ]
    }
   ],
   "source": [
    "types_of_beds = bed.hyponyms()\n",
    "print('\\n\\nTypes of beds(Hyponyms): ', types_of_beds)"
   ]
  },
  {
   "cell_type": "code",
   "execution_count": 54,
   "metadata": {},
   "outputs": [
    {
     "name": "stdout",
     "output_type": "stream",
     "text": [
      "['Murphy_bed', 'berth', 'built-in_bed', 'built_in_bed', 'bunk', 'bunk_bed', 'camp_bed', 'cot', 'couch', 'deathbed', 'double_bed', 'four-poster', 'hammock', 'marriage_bed', 'plank-bed', 'platform_bed', 'sack', 'sickbed', 'single_bed', 'sleigh_bed', 'truckle', 'truckle_bed', 'trundle', 'trundle_bed', 'twin_bed', 'water_bed']\n"
     ]
    }
   ],
   "source": [
    "print(sorted(set(lemma.name() for synset in types_of_beds for lemma in synset.lemmas())))"
   ]
  },
  {
   "cell_type": "markdown",
   "metadata": {},
   "source": [
    "**Polysemy**"
   ]
  },
  {
   "cell_type": "code",
   "execution_count": 63,
   "metadata": {
    "collapsed": true
   },
   "outputs": [],
   "source": [
    "type = 'n'\n",
    "synsets = wn.all_synsets(type)"
   ]
  },
  {
   "cell_type": "code",
   "execution_count": 64,
   "metadata": {
    "collapsed": true
   },
   "outputs": [],
   "source": [
    "lemmas = []\n",
    "for synset in synsets:\n",
    "    for lemma in synset.lemmas():\n",
    "        lemmas.append(lemma.name())"
   ]
  },
  {
   "cell_type": "code",
   "execution_count": 65,
   "metadata": {
    "collapsed": true
   },
   "outputs": [],
   "source": [
    "lemmas = set(lemmas)"
   ]
  },
  {
   "cell_type": "code",
   "execution_count": 66,
   "metadata": {
    "collapsed": true
   },
   "outputs": [],
   "source": [
    "count = 0\n",
    "for lemma in lemmas:\n",
    "    count = count + len(wn.synsets(lemma, type))"
   ]
  },
  {
   "cell_type": "code",
   "execution_count": 68,
   "metadata": {},
   "outputs": [
    {
     "data": {
      "text/plain": [
       "152763"
      ]
     },
     "execution_count": 68,
     "metadata": {},
     "output_type": "execute_result"
    }
   ],
   "source": [
    "count"
   ]
  },
  {
   "cell_type": "code",
   "execution_count": 69,
   "metadata": {},
   "outputs": [
    {
     "name": "stdout",
     "output_type": "stream",
     "text": [
      "Total distinct lemmas:  119034\n",
      "Total senses : 152763\n",
      "Average Polysemy of  n :  1.2833560159282222\n"
     ]
    }
   ],
   "source": [
    "print('Total distinct lemmas: ', len(lemmas))\n",
    "print('Total senses :',count)\n",
    "print('Average Polysemy of ', type,': ' , count/len(lemmas))"
   ]
  }
 ],
 "metadata": {
  "kernelspec": {
   "display_name": "Python 3",
   "language": "python",
   "name": "python3"
  },
  "language_info": {
   "codemirror_mode": {
    "name": "ipython",
    "version": 3
   },
   "file_extension": ".py",
   "mimetype": "text/x-python",
   "name": "python",
   "nbconvert_exporter": "python",
   "pygments_lexer": "ipython3",
   "version": "3.6.3"
  }
 },
 "nbformat": 4,
 "nbformat_minor": 2
}
